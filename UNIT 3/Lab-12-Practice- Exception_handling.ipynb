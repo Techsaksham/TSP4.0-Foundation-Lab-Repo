{
 "cells": [
  {
   "cell_type": "markdown",
   "metadata": {},
   "source": [
    "## EDUNET FOUNDATION-Student Exercise Notebook\n",
    "\n",
    "## LAB  - Python Exception Handling"
   ]
  },
  {
   "cell_type": "markdown",
   "metadata": {},
   "source": [
    "Task: File Operations with Exception Handling<br><br>\n",
    "Create a function called read_file_contents that takes a file path as input and returns the contents of the file.<br> Handle the following exceptions:<br><br>\n",
    "\n",
    "FileNotFoundError: If the file does not exist, return a message indicating that the file was not found.<br>\n",
    "PermissionError: If the program does not have permission to read the file, return a message indicating the permission issue.<br><br>\n",
    "Any other exceptions: Return a message indicating an unknown error occurred.<br>\n",
    "Additionally, ensure that any file that is opened is properly closed, regardless of whether an exception occurred."
   ]
  },
  {
   "cell_type": "code",
   "execution_count": null,
   "metadata": {},
   "outputs": [],
   "source": []
  }
 ],
 "metadata": {
  "kernelspec": {
   "display_name": "Python 3 (ipykernel)",
   "language": "python",
   "name": "python3"
  },
  "language_info": {
   "codemirror_mode": {
    "name": "ipython",
    "version": 3
   },
   "file_extension": ".py",
   "mimetype": "text/x-python",
   "name": "python",
   "nbconvert_exporter": "python",
   "pygments_lexer": "ipython3",
   "version": "3.9.13"
  }
 },
 "nbformat": 4,
 "nbformat_minor": 4
}
