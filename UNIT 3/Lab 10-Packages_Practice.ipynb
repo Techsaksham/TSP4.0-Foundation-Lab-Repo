{
 "cells": [
  {
   "cell_type": "markdown",
   "metadata": {},
   "source": [
    "## EDUNET FOUNDATION-Student Exercise Notebook\n",
    "\n",
    "## LAB  - Python Packages or Modules"
   ]
  },
  {
   "cell_type": "markdown",
   "metadata": {},
   "source": [
    "You are tasked with creating a small Python project that includes multiple functionalities. The project should include a module for basic mathematical operations and another module for greeting users. Additionally, organize these modules into a package for better structure.\n",
    "\n",
    "Requirements:\n",
    "\n",
    "Create a package named utils.\n",
    "Inside the utils package, create two modules: math_operations.py and greetings.py.\n",
    "In the math_operations.py module, define functions add(a, b), subtract(a, b), multiply(a, b), and divide(a, b).\n",
    "In the greetings.py module, define a function greet(name).\n",
    "Create a main script main.py in the root directory that imports and uses these functions from the utils package.\n",
    "\n",
    "Tasks:\n",
    "\n",
    "Write the necessary code to create the utils package with the specified modules and functions.\n",
    "Write the main.py script to demonstrate the use of these modules by performing the following actions:\n",
    "Greet a user named \"Alice\".\n",
    "\n",
    "Perform the following mathematical operations and print the results:<br>\n",
    "Add 10 and 5<br>\n",
    "Subtract 5 from 10<br>\n",
    "Multiply 3 by 4<br>\n",
    "Divide 20 by 4\n",
    "\n",
    "Structure:\n",
    "Your project directory should look like this:\n",
    "my_project/<br>\n",
    "    ├── main.py<br>\n",
    "    └── utils/<br>\n",
    "        ├── __init__.py<br>\n",
    "        ├── math_operations.py<br>\n",
    "        └── greetings.py\n"
   ]
  },
  {
   "cell_type": "code",
   "execution_count": null,
   "metadata": {},
   "outputs": [],
   "source": []
  }
 ],
 "metadata": {
  "kernelspec": {
   "display_name": "Python 3 (ipykernel)",
   "language": "python",
   "name": "python3"
  },
  "language_info": {
   "codemirror_mode": {
    "name": "ipython",
    "version": 3
   },
   "file_extension": ".py",
   "mimetype": "text/x-python",
   "name": "python",
   "nbconvert_exporter": "python",
   "pygments_lexer": "ipython3",
   "version": "3.9.13"
  }
 },
 "nbformat": 4,
 "nbformat_minor": 4
}
