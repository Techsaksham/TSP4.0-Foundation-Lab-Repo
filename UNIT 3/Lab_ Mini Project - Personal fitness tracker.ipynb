{
 "cells": [
  {
   "attachments": {
    "image.png": {
     "image/png": "[encoded data removed]"
    }
   },
   "cell_type": "markdown",
   "id": "7a1eef8d",
   "metadata": {},
   "source": [
    "![image.png](attachment:image.png)"
   ]
  },
  {
   "cell_type": "markdown",
   "id": "5dfab800",
   "metadata": {},
   "source": [
    "# Edunet Foundation : Class Room Exercises"
   ]
  },
  {
   "attachments": {},
   "cell_type": "markdown",
   "id": "1d0451c6-6213-4728-9c66-463a42889049",
   "metadata": {},
   "source": [
    "# Lab: Mini Project - Personal fitness tracker\n",
    "\n",
    "### Objective: \n",
    "The objective is to create a personal fitness tracker that helps users track their daily workouts, view progress summaries, and save/load data by applying Python programming concepts such as data structures, file handling, functions, and object-oriented programming (OOP). "
   ]
  },
  {
   "cell_type": "markdown",
   "id": "ec23ae75-9ae6-432f-ac1a-1b9ae7432f5a",
   "metadata": {},
   "source": [
    "### Step-by-Step Implementation"
   ]
  },
  {
   "cell_type": "markdown",
   "id": "35a2e8ff-31c7-4cb4-9fcf-34940a7f908b",
   "metadata": {},
   "source": [
    "#### Define the Classes"
   ]
  },
  {
   "cell_type": "code",
   "execution_count": 1,
   "id": "42c711fd-a51e-46ab-9e2b-978637c43328",
   "metadata": {},
   "outputs": [],
   "source": [
    "class Workout:\n",
    "    def __init__(self, date, exercise_type, duration, calories_burned):\n",
    "        self.date = date\n",
    "        self.exercise_type = exercise_type\n",
    "        self.duration = duration\n",
    "        self.calories_burned = calories_burned\n",
    "\n",
    "    def __str__(self):\n",
    "        return f\"{self.date}: {self.exercise_type} for {self.duration} minutes, {self.calories_burned} calories burned\""
   ]
  },
  {
   "cell_type": "code",
   "execution_count": 2,
   "id": "62317395-3c56-4dd8-827d-23476cb70a96",
   "metadata": {},
   "outputs": [],
   "source": [
    "class User:\n",
    "    def __init__(self, name, age, weight):\n",
    "        self.name = name\n",
    "        self.age = age\n",
    "        self.weight = weight\n",
    "        self.workouts = []\n",
    "\n",
    "    def add_workout(self, workout):\n",
    "        self.workouts.append(workout)\n",
    "\n",
    "    def view_workouts(self):\n",
    "        for workout in self.workouts:\n",
    "            print(workout)\n",
    "\n",
    "    def save_data(self, filename):\n",
    "        with open(filename, 'w') as file:\n",
    "            for workout in self.workouts:\n",
    "                file.write(f\"{workout.date},{workout.exercise_type},{workout.duration},{workout.calories_burned}\\n\")\n",
    "\n",
    "    def load_data(self, filename):\n",
    "        with open(filename, 'r') as file:\n",
    "            for line in file:\n",
    "                date, exercise_type, duration, calories_burned = line.strip().split(',')\n",
    "                workout = Workout(date, exercise_type, int(duration), int(calories_burned))\n",
    "                self.workouts.append(workout)"
   ]
  },
  {
   "cell_type": "markdown",
   "id": "76b0be7e-5bdc-4816-b5c6-05c1ed22176c",
   "metadata": {},
   "source": [
    "#### Create Functions to Handle User Interaction"
   ]
  },
  {
   "cell_type": "code",
   "execution_count": 3,
   "id": "0a952f49-b3c7-42e5-a0a8-ac7709d19556",
   "metadata": {},
   "outputs": [],
   "source": [
    "def add_workout(user):\n",
    "    date = input(\"Enter the date (YYYY-MM-DD): \")\n",
    "    exercise_type = input(\"Enter the exercise type: \")\n",
    "    duration = int(input(\"Enter the duration (minutes): \"))\n",
    "    calories_burned = int(input(\"Enter the calories burned: \"))\n",
    "    workout = Workout(date, exercise_type, duration, calories_burned)\n",
    "    user.add_workout(workout)\n",
    "    print(\"Workout added successfully!\")\n",
    "\n",
    "def view_workouts(user):\n",
    "    print(f\"{user.name}'s Workouts:\")\n",
    "    user.view_workouts()\n",
    "\n",
    "def save_data(user):\n",
    "    filename = input(\"Enter the filename to save data: \")\n",
    "    user.save_data(filename)\n",
    "    print(\"Data saved successfully!\")\n",
    "\n",
    "def load_data(user):\n",
    "    filename = input(\"Enter the filename to load data: \")\n",
    "    user.load_data(filename)\n",
    "    print(\"Data loaded successfully!\")\n"
   ]
  },
  {
   "cell_type": "markdown",
   "id": "14a20de9-a9f1-4640-a022-1f795ec88160",
   "metadata": {},
   "source": [
    "#### Main Function to Run the Program"
   ]
  },
  {
   "cell_type": "code",
   "execution_count": null,
   "id": "bc4efe23-2122-466a-ba76-6bbeda1acd2d",
   "metadata": {},
   "outputs": [
    {
     "name": "stdout",
     "output_type": "stream",
     "text": [
      "Enter your name:  Sarvesh\n",
      "Enter your age:  12\n",
      "Enter your weight:  37\n",
      "\n",
      "1. Add Workout\n",
      "2. View Workouts\n",
      "3. Save Data\n",
      "4. Load Data\n",
      "5. Exit\n",
      "Enter your choice:  pushups\n",
      "Invalid choice. Please try again.\n",
      "\n",
      "1. Add Workout\n",
      "2. View Workouts\n",
      "3. Save Data\n",
      "4. Load Data\n",
      "5. Exit\n",
      "Enter your choice:  1\n",
      "Enter the date (YYYY-MM-DD):  05-11-2014\n",
      "Enter the exercise type:  pushups\n",
      "Enter the duration (minutes):  50\n",
      "Enter the calories burned:  120\n",
      "Workout added successfully!\n",
      "\n",
      "1. Add Workout\n",
      "2. View Workouts\n",
      "3. Save Data\n",
      "4. Load Data\n",
      "5. Exit\n"
     ]
    }
   ],
   "source": [
    "def main():\n",
    "    name = input(\"Enter your name: \")\n",
    "    age = int(input(\"Enter your age: \"))\n",
    "    weight = float(input(\"Enter your weight: \"))\n",
    "    user = User(name, age, weight)\n",
    "\n",
    "    while True:\n",
    "        print(\"\\n1. Add Workout\")\n",
    "        print(\"2. View Workouts\")\n",
    "        print(\"3. Save Data\")\n",
    "        print(\"4. Load Data\")\n",
    "        print(\"5. Exit\")\n",
    "        choice = input(\"Enter your choice: \")\n",
    "\n",
    "        if choice == '1':\n",
    "            add_workout(user)\n",
    "        elif choice == '2':\n",
    "            view_workouts(user)\n",
    "        elif choice == '3':\n",
    "            save_data(user)\n",
    "        elif choice == '4':\n",
    "            load_data(user)\n",
    "        elif choice == '5':\n",
    "            break\n",
    "        else:\n",
    "            print(\"Invalid choice. Please try again.\")\n",
    "\n",
    "if __name__ == \"__main__\":\n",
    "    main()\n"
   ]
  }
 ],
 "metadata": {
  "kernelspec": {
   "display_name": "Python 3 (ipykernel)",
   "language": "python",
   "name": "python3"
  },
  "language_info": {
   "codemirror_mode": {
    "name": "ipython",
    "version": 3
   },
   "file_extension": ".py",
   "mimetype": "text/x-python",
   "name": "python",
   "nbconvert_exporter": "python",
   "pygments_lexer": "ipython3",
   "version": "3.12.2"
  }
 },
 "nbformat": 4,
 "nbformat_minor": 5
}
