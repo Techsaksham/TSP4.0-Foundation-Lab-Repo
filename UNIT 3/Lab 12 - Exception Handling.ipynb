{
 "cells": [
  {
   "cell_type": "markdown",
   "metadata": {},
   "source": [
    "## EDUNET FOUNDATION-Class Exercise Notebook\n",
    "\n",
    "## LAB13  - Exception Handling"
   ]
  },
  {
   "cell_type": "markdown",
   "metadata": {},
   "source": [
    "<b>Objective:-\n",
    "    \n",
    "Learn how to handle exceptions using try, except, else, and finally.<br>\n",
    "Understand how to raise and create custom exceptions.<b>"
   ]
  },
  {
   "cell_type": "markdown",
   "metadata": {},
   "source": [
    "#Task 1: Handling Division by Zero<br><br>\n",
    "Create a function that takes two numbers and returns their division. Handle the case where the divisor is zero."
   ]
  },
  {
   "cell_type": "code",
   "execution_count": null,
   "metadata": {},
   "outputs": [],
   "source": [
    "\n",
    "def divide(a, b):\n",
    "    try:\n",
    "        result = a / b\n",
    "    except ZeroDivisionError:\n",
    "        return \"Error: Division by zero is not allowed.\"\n",
    "    else:\n",
    "        return result\n",
    "\n",
    "# Test the function\n",
    "print(divide(10, 2))  # Should print 5.0\n",
    "print(divide(10, 0))  # Should print an error message"
   ]
  },
  {
   "cell_type": "markdown",
   "metadata": {},
   "source": [
    "Task 2: Handling Multiple Exceptions<br>\n",
    "Create a function that takes two inputs and performs division. Handle both ZeroDivisionError and TypeError.\n"
   ]
  },
  {
   "cell_type": "code",
   "execution_count": 1,
   "metadata": {},
   "outputs": [
    {
     "name": "stdout",
     "output_type": "stream",
     "text": [
      "5.0\n",
      "Error: Division by zero is not allowed.\n",
      "Error: Inputs must be numbers.\n"
     ]
    }
   ],
   "source": [
    "def safe_divide(a, b):\n",
    "    try:\n",
    "        result = a / b\n",
    "    except ZeroDivisionError:\n",
    "        return \"Error: Division by zero is not allowed.\"\n",
    "    except TypeError:\n",
    "        return \"Error: Inputs must be numbers.\"\n",
    "    else:\n",
    "        return result\n",
    "\n",
    "# Test the function\n",
    "print(safe_divide(10, 2))  # Should print 5.0\n",
    "print(safe_divide(10, 0))  # Should print an error message for division by zero\n",
    "print(safe_divide(10, 'a'))  # Should print an error message for type error"
   ]
  },
  {
   "cell_type": "markdown",
   "metadata": {},
   "source": [
    "Task 3: Using else Block<br><br>\n",
    "Modify the safe_divide function to print a message when the division is successful using the else block."
   ]
  },
  {
   "cell_type": "code",
   "execution_count": null,
   "metadata": {},
   "outputs": [],
   "source": [
    "def safe_divide_with_else(a, b):\n",
    "    try:\n",
    "        result = a / b\n",
    "    except ZeroDivisionError:\n",
    "        return \"Error: Division by zero is not allowed.\"\n",
    "    except TypeError:\n",
    "        return \"Error: Inputs must be numbers.\"\n",
    "    else:\n",
    "        print(\"Division successful!\")\n",
    "        return result\n",
    "\n",
    "# Test the function\n",
    "print(safe_divide_with_else(10, 2))  # Should print success message and 5.0\n",
    "print(safe_divide_with_else(10, 0))  # Should print an error message for division by zero\n",
    "print(safe_divide_with_else(10, 'a'))  # Should print an error message for type error\n"
   ]
  },
  {
   "cell_type": "markdown",
   "metadata": {},
   "source": [
    "Task 4: Using finally Block<br><br>\n",
    "Add a finally block to the previous function to print a message regardless of whether an exception occurred or not.\n",
    "\n"
   ]
  },
  {
   "cell_type": "code",
   "execution_count": null,
   "metadata": {},
   "outputs": [],
   "source": [
    "def safe_divide_with_finally(a, b):\n",
    "    try:\n",
    "        result = a / b\n",
    "    except ZeroDivisionError:\n",
    "        return \"Error: Division by zero is not allowed.\"\n",
    "    except TypeError:\n",
    "        return \"Error: Inputs must be numbers.\"\n",
    "    else:\n",
    "        print(\"Division successful!\")\n",
    "        return result\n",
    "    finally:\n",
    "        print(\"Execution complete.\")\n",
    "\n",
    "# Test the function\n",
    "print(safe_divide_with_finally(10, 2))  # Should print success message, result, and execution complete\n",
    "print(safe_divide_with_finally(10, 0))  # Should print an error message for division by zero and execution complete\n",
    "print(safe_divide_with_finally(10, 'a'))  # Should print an error message for type error and execution complete\n"
   ]
  },
  {
   "cell_type": "markdown",
   "metadata": {},
   "source": [
    "Task 5: Creating Custom Exceptions<br><br>\n",
    "Create a custom exception called NegativeNumberError.<br> Modify the division function to raise this exception if any input is negative."
   ]
  },
  {
   "cell_type": "code",
   "execution_count": null,
   "metadata": {},
   "outputs": [],
   "source": [
    "class NegativeNumberError(Exception):\n",
    "    pass\n",
    "\n",
    "def divide_with_custom_exception(a, b):\n",
    "    try:\n",
    "        if a < 0 or b < 0:\n",
    "            raise NegativeNumberError(\"Negative numbers are not allowed.\")\n",
    "        result = a / b\n",
    "    except ZeroDivisionError:\n",
    "        return \"Error: Division by zero is not allowed.\"\n",
    "    except TypeError:\n",
    "        return \"Error: Inputs must be numbers.\"\n",
    "    except NegativeNumberError as e:\n",
    "        return f\"Error: {e}\"\n",
    "    else:\n",
    "        print(\"Division successful!\")\n",
    "        return result\n",
    "    finally:\n",
    "        print(\"Execution complete.\")\n",
    "\n",
    "# Test the function\n",
    "print(divide_with_custom_exception(10, 2))  # Should print success message, result, and execution complete\n",
    "print(divide_with_custom_exception(10, 0))  # Should print an error message for division by zero and execution complete\n",
    "print(divide_with_custom_exception(10, 'a'))  # Should print an error message for type error and execution complete\n",
    "print(divide_with_custom_exception(-10, 2))  # Should print an error message for negative number and execution complete\n",
    "\n"
   ]
  },
  {
   "cell_type": "markdown",
   "metadata": {},
   "source": [
    "Summary<br><br>\n",
    "This lab should give you a good understanding of how to handle exceptions in Python.<br>Make sure to experiment with different scenarios and understand the flow of execution when exceptions are raised."
   ]
  },
  {
   "cell_type": "markdown",
   "metadata": {},
   "source": [
    "# End"
   ]
  }
 ],
 "metadata": {
  "kernelspec": {
   "display_name": "Python 3 (ipykernel)",
   "language": "python",
   "name": "python3"
  },
  "language_info": {
   "codemirror_mode": {
    "name": "ipython",
    "version": 3
   },
   "file_extension": ".py",
   "mimetype": "text/x-python",
   "name": "python",
   "nbconvert_exporter": "python",
   "pygments_lexer": "ipython3",
   "version": "3.9.13"
  }
 },
 "nbformat": 4,
 "nbformat_minor": 4
}
