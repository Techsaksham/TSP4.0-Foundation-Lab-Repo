{
 "cells": [
  {
   "cell_type": "markdown",
   "id": "001d7b79",
   "metadata": {},
   "source": [
    "# Demo project - Python app using database (Sqlite)\n",
    "\n",
    "# Project: Personal Contacts Management System\n"
   ]
  },
  {
   "cell_type": "markdown",
   "id": "f54cb3c8",
   "metadata": {},
   "source": [
    "### Let's create a small project for managing a simple database using Python. We'll use SQLite, a lightweight and disk-based database, and the sqlite3 module in Python, which provides an easy-to-use interface to SQLite databases.\n",
    "\n",
    "#### Features:\n",
    "#### 1. Add a new contact.\n",
    "#### 2. View all contacts.\n",
    "#### 3. Search for a contact by name.\n",
    "#### 4. Update a contact's details.\n",
    "#### 5. Delete a contact.\n",
    "\n",
    "#### Steps:\n",
    "#### - Set up the database:\n",
    "\n",
    "#### - Create a database and a table to store contact details.\n",
    "#### - Implement functionality:\n",
    "\n",
    "#### - Functions for adding, viewing, searching, updating, and deleting contacts.\n",
    "#### - User interface:\n",
    "\n",
    "#### - A simple command-line interface to interact with the user."
   ]
  },
  {
   "cell_type": "code",
   "execution_count": null,
   "id": "546b558a",
   "metadata": {},
   "outputs": [],
   "source": [
    "# Setup Database\n",
    "\n",
    "import sqlite3\n",
    "\n",
    "# Connect to SQLite database\n",
    "conn = sqlite3.connect('contacts.db')\n",
    "\n",
    "# Create a cursor\n",
    "c = conn.cursor()\n",
    "\n",
    "# Create contacts table\n",
    "c.execute('''CREATE TABLE IF NOT EXISTS contacts (\n",
    "                id INTEGER PRIMARY KEY AUTOINCREMENT,\n",
    "                name TEXT NOT NULL,\n",
    "                phone TEXT NOT NULL,\n",
    "                email TEXT)''')\n",
    "\n",
    "# Commit changes and close the connection\n",
    "conn.commit()\n",
    "conn.close()\n"
   ]
  },
  {
   "cell_type": "code",
   "execution_count": null,
   "id": "4a2ffc9b",
   "metadata": {},
   "outputs": [],
   "source": [
    "# Function- Add a Contact\n",
    "\n",
    "def add_contact(name, phone, email):\n",
    "    conn = sqlite3.connect('contacts.db')\n",
    "    c = conn.cursor()\n",
    "    c.execute(\"INSERT INTO contacts (name, phone, email) VALUES (?, ?, ?)\", (name, phone, email))\n",
    "    conn.commit()\n",
    "    conn.close()\n",
    "    print(f\"Contact {name} added.\")\n"
   ]
  },
  {
   "cell_type": "code",
   "execution_count": null,
   "id": "9d880d14",
   "metadata": {},
   "outputs": [],
   "source": [
    "# Function - View Contacts\n",
    "\n",
    "def view_contacts():\n",
    "    conn = sqlite3.connect('contacts.db')\n",
    "    c = conn.cursor()\n",
    "    c.execute(\"SELECT * FROM contacts\")\n",
    "    contacts = c.fetchall()\n",
    "    conn.close()\n",
    "    for contact in contacts:\n",
    "        print(contact)\n"
   ]
  },
  {
   "cell_type": "code",
   "execution_count": null,
   "id": "95392bee",
   "metadata": {},
   "outputs": [],
   "source": [
    "# Function - Search for Contact\n",
    "\n",
    "def search_contact(name):\n",
    "    conn = sqlite3.connect('contacts.db')\n",
    "    c = conn.cursor()\n",
    "    c.execute(\"SELECT * FROM contacts WHERE name LIKE ?\", ('%' + name + '%',))\n",
    "    contacts = c.fetchall()\n",
    "    conn.close()\n",
    "    for contact in contacts:\n",
    "        print(contact)\n"
   ]
  },
  {
   "cell_type": "code",
   "execution_count": null,
   "id": "246c173c",
   "metadata": {},
   "outputs": [],
   "source": [
    "# Function - Update Contact\n",
    "\n",
    "def update_contact(contact_id, name, phone, email):\n",
    "    conn = sqlite3.connect('contacts.db')\n",
    "    c = conn.cursor()\n",
    "    c.execute(\"UPDATE contacts SET name = ?, phone = ?, email = ? WHERE id = ?\", (name, phone, email, contact_id))\n",
    "    conn.commit()\n",
    "    conn.close()\n",
    "    print(f\"Contact ID {contact_id} updated.\")\n"
   ]
  },
  {
   "cell_type": "code",
   "execution_count": null,
   "id": "02a426de",
   "metadata": {},
   "outputs": [],
   "source": [
    "# Function - Delete Contact\n",
    "\n",
    "def delete_contact(contact_id):\n",
    "    conn = sqlite3.connect('contacts.db')\n",
    "    c = conn.cursor()\n",
    "    c.execute(\"DELETE FROM contacts WHERE id = ?\", (contact_id,))\n",
    "    conn.commit()\n",
    "    conn.close()\n",
    "    print(f\"Contact ID {contact_id} deleted.\")\n"
   ]
  },
  {
   "cell_type": "code",
   "execution_count": null,
   "id": "f1585c7b",
   "metadata": {},
   "outputs": [],
   "source": [
    "# Main Function\n",
    "\n",
    "def main():\n",
    "    while True:\n",
    "        print(\"\\nContact Management System\")\n",
    "        print(\"1. Add a new contact\")\n",
    "        print(\"2. View all contacts\")\n",
    "        print(\"3. Search for a contact by name\")\n",
    "        print(\"4. Update a contact's details\")\n",
    "        print(\"5. Delete a contact\")\n",
    "        print(\"6. Exit\")\n",
    "\n",
    "        choice = input(\"Enter your choice: \")\n",
    "\n",
    "        if choice == '1':\n",
    "            name = input(\"Enter name: \")\n",
    "            phone = input(\"Enter phone: \")\n",
    "            email = input(\"Enter email: \")\n",
    "            add_contact(name, phone, email)\n",
    "        elif choice == '2':\n",
    "            view_contacts()\n",
    "        elif choice == '3':\n",
    "            name = input(\"Enter name to search: \")\n",
    "            search_contact(name)\n",
    "        elif choice == '4':\n",
    "            contact_id = input(\"Enter contact ID to update: \")\n",
    "            name = input(\"Enter new name: \")\n",
    "            phone = input(\"Enter new phone: \")\n",
    "            email = input(\"Enter new email: \")\n",
    "            update_contact(contact_id, name, phone, email)\n",
    "        elif choice == '5':\n",
    "            contact_id = input(\"Enter contact ID to delete: \")\n",
    "            delete_contact(contact_id)\n",
    "        elif choice == '6':\n",
    "            break\n",
    "        else:\n",
    "            print(\"Invalid choice. Please try again.\")\n",
    "\n",
    "if __name__ == \"__main__\":\n",
    "    main()\n"
   ]
  },
  {
   "cell_type": "markdown",
   "id": "da8278cc",
   "metadata": {},
   "source": [
    "#### Running the Project\n",
    "\n",
    "#### Save the code in a Python file, e.g., contacts_management.py.\n",
    "\n",
    "#### Run the file: python contacts_management.py."
   ]
  }
 ],
 "metadata": {
  "kernelspec": {
   "display_name": "Python 3 (ipykernel)",
   "language": "python",
   "name": "python3"
  },
  "language_info": {
   "codemirror_mode": {
    "name": "ipython",
    "version": 3
   },
   "file_extension": ".py",
   "mimetype": "text/x-python",
   "name": "python",
   "nbconvert_exporter": "python",
   "pygments_lexer": "ipython3",
   "version": "3.12.2"
  }
 },
 "nbformat": 4,
 "nbformat_minor": 5
}
