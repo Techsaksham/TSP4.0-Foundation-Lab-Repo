{
 "cells": [
  {
   "cell_type": "markdown",
   "id": "8b8d0552",
   "metadata": {},
   "source": [
    "# EDUNET FOUNDATION - Self-Practice Exercise Notebook "
   ]
  },
  {
   "cell_type": "markdown",
   "id": "a63c368d",
   "metadata": {},
   "source": [
    "# LAB 18- Python Connection with Database"
   ]
  },
  {
   "cell_type": "markdown",
   "id": "022abb11",
   "metadata": {},
   "source": [
    "Problem 1 create a table named EMPLOYEE in MySQL with five columns namely, FIRST_NAME,AGE, SEX and, INCOME."
   ]
  },
  {
   "cell_type": "code",
   "execution_count": null,
   "id": "c9f933d8",
   "metadata": {},
   "outputs": [],
   "source": []
  },
  {
   "cell_type": "markdown",
   "id": "231298b8",
   "metadata": {},
   "source": [
    "Problem 2: Display created table using SELECT"
   ]
  },
  {
   "cell_type": "code",
   "execution_count": null,
   "id": "d15ff31d",
   "metadata": {},
   "outputs": [],
   "source": []
  },
  {
   "cell_type": "markdown",
   "id": "a139eaec",
   "metadata": {},
   "source": [
    "Problem 3:Write a MySQL statement which retrieves the records of the employees whose income is greater than 4000."
   ]
  },
  {
   "cell_type": "code",
   "execution_count": null,
   "id": "5d0a2770",
   "metadata": {},
   "outputs": [],
   "source": []
  }
 ],
 "metadata": {
  "kernelspec": {
   "display_name": "Python 3 (ipykernel)",
   "language": "python",
   "name": "python3"
  },
  "language_info": {
   "codemirror_mode": {
    "name": "ipython",
    "version": 3
   },
   "file_extension": ".py",
   "mimetype": "text/x-python",
   "name": "python",
   "nbconvert_exporter": "python",
   "pygments_lexer": "ipython3",
   "version": "3.12.2"
  }
 },
 "nbformat": 4,
 "nbformat_minor": 5
}
