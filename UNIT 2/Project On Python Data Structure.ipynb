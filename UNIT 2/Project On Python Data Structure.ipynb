{
 "cells": [
  {
   "cell_type": "code",
   "execution_count": null,
   "id": "7e4212bd-9e32-4db7-95ad-cdd32df1d015",
   "metadata": {},
   "outputs": [
    {
     "name": "stdout",
     "output_type": "stream",
     "text": [
      "\n",
      "1. Add Student Record\n",
      "2. View All Students\n",
      "3. Search Student\n",
      "4. Update Student Information\n",
      "5. Delete Student Record\n",
      "6. Exit\n"
     ]
    },
    {
     "name": "stdin",
     "output_type": "stream",
     "text": [
      "Enter your choice:  1\n",
      "Enter student ID:  1\n",
      "Enter student name:  Rashmi\n",
      "Enter student age:  35\n",
      "Enter student grade:  12\n"
     ]
    },
    {
     "name": "stdout",
     "output_type": "stream",
     "text": [
      "Student added successfully!\n",
      "\n",
      "1. Add Student Record\n",
      "2. View All Students\n",
      "3. Search Student\n",
      "4. Update Student Information\n",
      "5. Delete Student Record\n",
      "6. Exit\n"
     ]
    },
    {
     "name": "stdin",
     "output_type": "stream",
     "text": [
      "Enter your choice:  2\n"
     ]
    },
    {
     "name": "stdout",
     "output_type": "stream",
     "text": [
      "ID: 1, Name: Rashmi, Age: 35, Grade: 12\n",
      "\n",
      "1. Add Student Record\n",
      "2. View All Students\n",
      "3. Search Student\n",
      "4. Update Student Information\n",
      "5. Delete Student Record\n",
      "6. Exit\n"
     ]
    },
    {
     "name": "stdin",
     "output_type": "stream",
     "text": [
      "Enter your choice:  1\n",
      "Enter student ID:  2\n",
      "Enter student name:  Lakshya\n",
      "Enter student age:  10\n",
      "Enter student grade:  6\n"
     ]
    },
    {
     "name": "stdout",
     "output_type": "stream",
     "text": [
      "Student added successfully!\n",
      "\n",
      "1. Add Student Record\n",
      "2. View All Students\n",
      "3. Search Student\n",
      "4. Update Student Information\n",
      "5. Delete Student Record\n",
      "6. Exit\n"
     ]
    },
    {
     "name": "stdin",
     "output_type": "stream",
     "text": [
      "Enter your choice:  2\n"
     ]
    },
    {
     "name": "stdout",
     "output_type": "stream",
     "text": [
      "ID: 1, Name: Rashmi, Age: 35, Grade: 12\n",
      "ID: 2, Name: Lakshya, Age: 10, Grade: 6\n",
      "\n",
      "1. Add Student Record\n",
      "2. View All Students\n",
      "3. Search Student\n",
      "4. Update Student Information\n",
      "5. Delete Student Record\n",
      "6. Exit\n"
     ]
    }
   ],
   "source": [
    "# Initialize data structures\n",
    "students = {}  # Dictionary to store student records\n",
    "student_ids = []  # List to keep track of student IDs\n",
    "\n",
    "# Main loop\n",
    "while True:\n",
    "    print(\"\\n1. Add Student Record\")\n",
    "    print(\"2. View All Students\")\n",
    "    print(\"3. Search Student\")\n",
    "    print(\"4. Update Student Information\")\n",
    "    print(\"5. Delete Student Record\")\n",
    "    print(\"6. Exit\")\n",
    "    \n",
    "    choice = input(\"Enter your choice: \")\n",
    "    \n",
    "    if choice == '1':  # Add Student Record\n",
    "        student_id = input(\"Enter student ID: \")\n",
    "        name = input(\"Enter student name: \")\n",
    "        age = input(\"Enter student age: \")\n",
    "        grade = input(\"Enter student grade: \")\n",
    "        students[student_id] = {'name': name, 'age': age, 'grade': grade}\n",
    "        student_ids.append(student_id)\n",
    "        print(\"Student added successfully!\")\n",
    "        \n",
    "    elif choice == '2':  # View All Students\n",
    "        if not students:\n",
    "            print(\"No students found.\")\n",
    "        else:\n",
    "            for student_id in student_ids:\n",
    "                student = students[student_id]\n",
    "                print(f\"ID: {student_id}, Name: {student['name']}, Age: {student['age']}, Grade: {student['grade']}\")\n",
    "                \n",
    "    elif choice == '3':  # Search Student\n",
    "        student_id = input(\"Enter student ID to search: \")\n",
    "        if student_id in students:\n",
    "            student = students[student_id]\n",
    "            print(f\"ID: {student_id}, Name: {student['name']}, Age: {student['age']}, Grade: {student['grade']}\")\n",
    "        else:\n",
    "            print(\"Student not found.\")\n",
    "            \n",
    "    elif choice == '4':  # Update Student Information\n",
    "        student_id = input(\"Enter student ID to update: \")\n",
    "        if student_id in students:\n",
    "            name = input(\"Enter new name: \")\n",
    "            age = input(\"Enter new age: \")\n",
    "            grade = input(\"Enter new grade: \")\n",
    "            students[student_id] = {'name': name, 'age': age, 'grade': grade}\n",
    "            print(\"Student information updated successfully!\")\n",
    "        else:\n",
    "            print(\"Student not found.\")\n",
    "            \n",
    "    elif choice == '5':  # Delete Student Record\n",
    "        student_id = input(\"Enter student ID to delete: \")\n",
    "        if student_id in students:\n",
    "            del students[student_id]\n",
    "            student_ids.remove(student_id)\n",
    "            print(\"Student record deleted successfully!\")\n",
    "        else:\n",
    "            print(\"Student not found.\")\n",
    "            \n",
    "    elif choice == '6':  # Exit\n",
    "        print(\"Exiting...\")\n",
    "        break\n",
    "        \n",
    "    else:\n",
    "        print(\"Invalid choice. Please try again.\")\n"
   ]
  },
  {
   "cell_type": "code",
   "execution_count": null,
   "id": "93f1d175-6480-4f4f-b374-cb092d23e83b",
   "metadata": {},
   "outputs": [],
   "source": []
  }
 ],
 "metadata": {
  "kernelspec": {
   "display_name": "Python 3 (ipykernel)",
   "language": "python",
   "name": "python3"
  },
  "language_info": {
   "codemirror_mode": {
    "name": "ipython",
    "version": 3
   },
   "file_extension": ".py",
   "mimetype": "text/x-python",
   "name": "python",
   "nbconvert_exporter": "python",
   "pygments_lexer": "ipython3",
   "version": "3.12.2"
  }
 },
 "nbformat": 4,
 "nbformat_minor": 5
}
