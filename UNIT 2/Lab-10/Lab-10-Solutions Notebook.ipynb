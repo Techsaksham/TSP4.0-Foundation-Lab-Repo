{
 "cells": [
  {
   "cell_type": "markdown",
   "id": "8b8d0552",
   "metadata": {},
   "source": [
    "# EDUNET FOUNDATION - Self-Practice Exercise Notebook Solutions"
   ]
  },
  {
   "cell_type": "markdown",
   "id": "a63c368d",
   "metadata": {},
   "source": [
    "# LAB 10- Python Connection with Database"
   ]
  },
  {
   "cell_type": "markdown",
   "id": "3af2875a",
   "metadata": {},
   "source": [
    "Problem 1 create a table named EMPLOYEE in MySQL with five columns namely, FIRST_NAME,AGE, SEX and, INCOME."
   ]
  },
  {
   "cell_type": "code",
   "execution_count": null,
   "id": "1a4cbb7e",
   "metadata": {},
   "outputs": [],
   "source": [
    "import mysql.connector\n",
    "\n",
    "mydb = mysql.connector.connect(\n",
    "\thost = \"localhost\",\n",
    "\tuser = \"root\",\n",
    "\tpassword = \"MySQL\",\n",
    "\tdatabase = \"mynewdatabase\"\n",
    ")\n",
    "\n",
    "mycursor = mydb.cursor()\n",
    "\n",
    "# Creating a table called 'STUDENT' in the\n",
    "# 'mynewdatabase' database\n",
    "mycursor.execute(\"CREATE TABLE EMPLOYEE(FIRST_NAME CHAR(20) NOT NULL,LAST_NAME CHAR(20),AGE INT,SEX CHAR(1),INCOME FLOAT)\")"
   ]
  },
  {
   "cell_type": "markdown",
   "id": "1106613d",
   "metadata": {},
   "source": [
    "Problem 2: Display created table using SELECT"
   ]
  },
  {
   "cell_type": "code",
   "execution_count": null,
   "id": "f04a191a",
   "metadata": {},
   "outputs": [],
   "source": [
    "import mysql.connector\n",
    "\n",
    "#establishing the connection\n",
    "conn = mysql.connector.connect(\n",
    "\thost = \"localhost\",\n",
    "\tuser = \"root\",\n",
    "\tpassword = \"MySQL\",\n",
    "\tdatabase = \"mynewdatabase\"\n",
    ")\n",
    "\n",
    "#Creating a cursor object using the cursor() method\n",
    "cursor = conn.cursor()\n",
    "\n",
    "#Retrieving single row\n",
    "sql = '''SELECT * from EMPLOYEE'''\n",
    "\n",
    "#Executing the query\n",
    "cursor.execute(sql)\n",
    "\n",
    "#Fetching 1st row from the table\n",
    "result = cursor.fetchone();\n",
    "print(result)\n",
    "\n",
    "#Fetching 1st row from the table\n",
    "result = cursor.fetchall();\n",
    "print(result)\n",
    "\n",
    "#Closing the connection\n",
    "conn.close()"
   ]
  },
  {
   "cell_type": "markdown",
   "id": "aefc12a5",
   "metadata": {},
   "source": [
    "Problem 3:Write a MySQL statement which retrieves the records of the employees whose income is greater than 4000."
   ]
  },
  {
   "cell_type": "code",
   "execution_count": null,
   "id": "072a4566",
   "metadata": {},
   "outputs": [],
   "source": [
    "import mysql.connector\n",
    "\n",
    "#establishing the connection\n",
    "conn = mysql.connector.connect(\n",
    "   host = \"localhost\",\n",
    "\tuser = \"root\",\n",
    "\tpassword = \"MySQL\",\n",
    "\tdatabase = \"mynewdatabase\")\n",
    "\n",
    "#Creating a cursor object using the cursor() method\n",
    "cursor = conn.cursor()\n",
    "\n",
    "#Doping EMPLOYEE table if already exists.\n",
    "cursor.execute(\"DROP TABLE IF EXISTS EMPLOYEE\")\n",
    "sql = '''CREATE TABLE EMPLOYEE(\n",
    "   FIRST_NAME CHAR(20) NOT NULL,\n",
    "   LAST_NAME CHAR(20),\n",
    "   AGE INT,\n",
    "   SEX CHAR(1),\n",
    "   INCOME FLOAT\n",
    ")'''\n",
    "cursor.execute(sql)\n",
    "\n",
    "#Populating the table\n",
    "insert_stmt = \"INSERT INTO EMPLOYEE (FIRST_NAME, LAST_NAME, AGE, SEX, INCOME) \n",
    "   VALUES (%s, %s, %s, %s, %s)\"\n",
    "\n",
    "data = [('Krishna', 'Sharma', 19, 'M', 2000), ('Raj', 'Kandukuri', 20, 'M', 7000),\n",
    "('Ramya', 'Ramapriya', 25, 'F', 5000),('Mac', 'Mohan', 26, 'M', 2000)]\n",
    "cursor.executemany(insert_stmt, data)\n",
    "conn.commit()\n",
    "\n",
    "#Retrieving specific records using the where clause\n",
    "cursor.execute(\"SELECT * from EMPLOYEE WHERE AGE <23\")\n",
    "print(cursor.fetchall())\n",
    "\n",
    "#Closing the connection\n",
    "conn.close()"
   ]
  }
 ],
 "metadata": {
  "kernelspec": {
   "display_name": "Python 3 (ipykernel)",
   "language": "python",
   "name": "python3"
  },
  "language_info": {
   "codemirror_mode": {
    "name": "ipython",
    "version": 3
   },
   "file_extension": ".py",
   "mimetype": "text/x-python",
   "name": "python",
   "nbconvert_exporter": "python",
   "pygments_lexer": "ipython3",
   "version": "3.12.2"
  }
 },
 "nbformat": 4,
 "nbformat_minor": 5
}
