{
 "cells": [
  {
   "cell_type": "markdown",
   "id": "8269a04d-1203-4544-b300-27390caf6cfa",
   "metadata": {},
   "source": [
    "## Project: Basic Student Record Management System"
   ]
  },
  {
   "cell_type": "markdown",
   "id": "b774e1e1-04bb-416a-b113-eb407040afa7",
   "metadata": {},
   "source": [
    "### Overview\n",
    "* This project uses tuples, lists, and dictionaries to manage student records. It will perform actions based on predefined choices and data.\n",
    "\n",
    "### Data Structures\n",
    ">Tuple: To store student information.\n",
    "\n",
    ">List: To keep track of student IDs.\n",
    "\n",
    ">Dictionary: To map each student ID to their tuple of details."
   ]
  },
  {
   "cell_type": "code",
   "execution_count": 1,
   "id": "6eaa7f54-f2bd-45d6-b9a4-604ef9af4c81",
   "metadata": {},
   "outputs": [
    {
     "name": "stdout",
     "output_type": "stream",
     "text": [
      "ID: 1001, Name: Alice Johnson, Age: 20, Grade: A\n",
      "ID: 1002, Name: Bob Smith, Age: 22, Grade: B\n",
      "Search Result - ID: 1001, Name: Alice Johnson, Age: 20, Grade: A\n",
      "Updated Record - ID: 1002, Name: Bob Smith, Age: 23, Grade: A\n"
     ]
    }
   ],
   "source": [
    "# Initialize data structures\n",
    "students = {}  # Dictionary to store student records with ID as key\n",
    "student_ids = []  # List to keep track of student IDs\n",
    "\n",
    "# Adding students\n",
    "student_id1 = '1001'\n",
    "name1 = 'Alice Johnson'\n",
    "age1 = '20'\n",
    "grade1 = 'A'\n",
    "students[student_id1] = (name1, age1, grade1)\n",
    "student_ids.append(student_id1)\n",
    "\n",
    "student_id2 = '1002'\n",
    "name2 = 'Bob Smith'\n",
    "age2 = '22'\n",
    "grade2 = 'B'\n",
    "students[student_id2] = (name2, age2, grade2)\n",
    "student_ids.append(student_id2)\n",
    "\n",
    "# Viewing all students\n",
    "view_id1 = student_ids[0]  # Viewing student with ID 1001\n",
    "view_id2 = student_ids[1]  # Viewing student with ID 1002\n",
    "\n",
    "view_name1, view_age1, view_grade1 = students[view_id1]\n",
    "print(f\"ID: {view_id1}, Name: {view_name1}, Age: {view_age1}, Grade: {view_grade1}\")\n",
    "\n",
    "view_name2, view_age2, view_grade2 = students[view_id2]\n",
    "print(f\"ID: {view_id2}, Name: {view_name2}, Age: {view_age2}, Grade: {view_grade2}\")\n",
    "\n",
    "# Searching for a student\n",
    "search_id = '1001'\n",
    "search_result = students.get(search_id, None)\n",
    "\n",
    "search_name, search_age, search_grade = search_result if search_result else ('Not Found', '', '')\n",
    "print(f\"Search Result - ID: {search_id}, Name: {search_name}, Age: {search_age}, Grade: {search_grade}\")\n",
    "\n",
    "# Updating a student's record\n",
    "update_id = '1002'\n",
    "update_name = 'Bob Smith'\n",
    "update_age = '23'\n",
    "update_grade = 'A'\n",
    "students[update_id] = (update_name, update_age, update_grade)\n",
    "\n",
    "# Display updated student\n",
    "update_name, update_age, update_grade = students[update_id]\n",
    "print(f\"Updated Record - ID: {update_id}, Name: {update_name}, Age: {update_age}, Grade: {update_grade}\")\n"
   ]
  },
  {
   "cell_type": "markdown",
   "id": "f39caf30-8d93-4479-adb1-0a8f7101c94a",
   "metadata": {},
   "source": [
    "### Explanation\n",
    "#### Initialization:\n",
    "\n",
    "* students: A dictionary mapping student IDs to tuples containing their name, age, and grade.\n",
    "* student_ids: A list tracking student IDs.\n",
    "\n",
    "#### Adding Students:\n",
    "\n",
    "* Manually adds two students to students and student_ids.\n",
    "\n",
    "#### Viewing All Students:\n",
    "\n",
    "* Retrieves student details using predefined IDs (view_id1 and view_id2) and prints them directly.\n",
    "\n",
    "#### Searching for a Student:\n",
    "\n",
    "* Searches for a student using get() method from the dictionary. Uses a tuple with default values if the student is not found.\n",
    "\n",
    "#### Updating a Student's Record:\n",
    "\n",
    "* Updates the record for a predefined student ID (update_id).\n",
    "\n",
    "#### Display Updated Student: \n",
    "\n",
    "* Prints the details of the updated student directly."
   ]
  }
 ],
 "metadata": {
  "kernelspec": {
   "display_name": "Python 3 (ipykernel)",
   "language": "python",
   "name": "python3"
  },
  "language_info": {
   "codemirror_mode": {
    "name": "ipython",
    "version": 3
   },
   "file_extension": ".py",
   "mimetype": "text/x-python",
   "name": "python",
   "nbconvert_exporter": "python",
   "pygments_lexer": "ipython3",
   "version": "3.12.2"
  }
 },
 "nbformat": 4,
 "nbformat_minor": 5
}
